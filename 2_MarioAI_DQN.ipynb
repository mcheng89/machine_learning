{
  "nbformat": 4,
  "nbformat_minor": 0,
  "metadata": {
    "colab": {
      "name": "2. MarioAI - DQN.ipynb",
      "provenance": [],
      "collapsed_sections": []
    },
    "kernelspec": {
      "name": "python3",
      "display_name": "Python 3"
    },
    "accelerator": "GPU"
  },
  "cells": [
    {
      "cell_type": "code",
      "metadata": {
        "id": "NknPAK7VrCsn",
        "colab_type": "code",
        "outputId": "63508796-b4ae-42b8-e148-234e90fab429",
        "colab": {
          "base_uri": "https://localhost:8080/",
          "height": 122
        }
      },
      "source": [
        "from google.colab import drive\n",
        "drive.mount('/content/gdrive')"
      ],
      "execution_count": 0,
      "outputs": [
        {
          "output_type": "stream",
          "text": [
            "Go to this URL in a browser: https://accounts.google.com/o/oauth2/auth?client_id=947318989803-6bn6qk8qdgf4n4g3pfee6491hc0brc4i.apps.googleusercontent.com&redirect_uri=urn%3aietf%3awg%3aoauth%3a2.0%3aoob&response_type=code&scope=email%20https%3a%2f%2fwww.googleapis.com%2fauth%2fdocs.test%20https%3a%2f%2fwww.googleapis.com%2fauth%2fdrive%20https%3a%2f%2fwww.googleapis.com%2fauth%2fdrive.photos.readonly%20https%3a%2f%2fwww.googleapis.com%2fauth%2fpeopleapi.readonly\n",
            "\n",
            "Enter your authorization code:\n",
            "··········\n",
            "Mounted at /content/gdrive\n"
          ],
          "name": "stdout"
        }
      ]
    },
    {
      "cell_type": "code",
      "metadata": {
        "id": "WcMe1bMDripg",
        "colab_type": "code",
        "colab": {}
      },
      "source": [
        "%%bash\n",
        "mkdir -p \"/content/gdrive/My Drive/development/ai/2-mario-ai-dqn/video\""
      ],
      "execution_count": 0,
      "outputs": []
    },
    {
      "cell_type": "markdown",
      "metadata": {
        "id": "cvi5P-5EvKmY",
        "colab_type": "text"
      },
      "source": [
        "**Pre-reading material:**\n",
        "\n",
        "Deep Q Network:\n",
        "1. https://www.intel.ai/demystifying-deep-reinforcement-learning/\n",
        "1. https://towardsdatascience.com/reinforcement-learning-w-keras-openai-dqns-1eed3a5338c \n",
        "1. https://pylessons.com/CartPole-DDQN/\n",
        "\n",
        "> Note: Article #2 has an error: `target = self.target_model.predict(state)` \n",
        ">\n",
        "> should be: `target = self.model.predict(state)`"
      ]
    },
    {
      "cell_type": "markdown",
      "metadata": {
        "id": "OtFQgm46CVPC",
        "colab_type": "text"
      },
      "source": [
        "**Important notes I noticed while training:**\n",
        "\n",
        "From link #5:\n",
        "1. https://towardsdatascience.com/from-zero-to-flagpole-hero-ead14fc46fba\n",
        "\n",
        "> With everything setup, I ran the same code I used for the Atari games but instead targeted the first level of Super Mario Bros. and… nothing happened. I waited an hour, but Mario only figured out that he gets killed by the first Goomba in the level, and he generally doesn’t like getting killed, so a better tactic is to just stand in place and safely wait for time to expire.\n",
        "\n",
        "From link #6: \n",
        "1. https://web.archive.org/web/20190630025508/https://www.statworx.com/de/blog/using-reinforcement-learning-to-play-super-mario-bros-on-nes-using-tensorflow/\n",
        "\n",
        "About 10,000 episodes and 20 hours of compute on Google Cloud was needed to learn the first level!\n",
        "\n"
      ]
    },
    {
      "cell_type": "code",
      "metadata": {
        "id": "1JwvTkyNliHX",
        "colab_type": "code",
        "outputId": "ac247385-97c9-4dc4-a79c-c47d125f881b",
        "colab": {
          "base_uri": "https://localhost:8080/",
          "height": 1000
        }
      },
      "source": [
        "%%bash\n",
        "pip3 install gym\n",
        "pip3 install gym-super-mario-bros\n",
        "pip3 install keras==2.3.1\n",
        "pip3 install matplotlib\n",
        "apt-get update\n",
        "apt-get -y install ffmpeg\n",
        "apt-get -y install libsm6 libxext6"
      ],
      "execution_count": 0,
      "outputs": [
        {
          "output_type": "stream",
          "text": [
            "Requirement already satisfied: gym in /usr/local/lib/python3.6/dist-packages (0.15.4)\n",
            "Requirement already satisfied: cloudpickle~=1.2.0 in /usr/local/lib/python3.6/dist-packages (from gym) (1.2.2)\n",
            "Requirement already satisfied: pyglet<=1.3.2,>=1.2.0 in /usr/local/lib/python3.6/dist-packages (from gym) (1.3.2)\n",
            "Requirement already satisfied: numpy>=1.10.4 in /usr/local/lib/python3.6/dist-packages (from gym) (1.17.4)\n",
            "Requirement already satisfied: opencv-python in /usr/local/lib/python3.6/dist-packages (from gym) (4.1.2.30)\n",
            "Requirement already satisfied: six in /usr/local/lib/python3.6/dist-packages (from gym) (1.12.0)\n",
            "Requirement already satisfied: scipy in /usr/local/lib/python3.6/dist-packages (from gym) (1.3.3)\n",
            "Requirement already satisfied: future in /usr/local/lib/python3.6/dist-packages (from pyglet<=1.3.2,>=1.2.0->gym) (0.16.0)\n",
            "Requirement already satisfied: gym-super-mario-bros in /usr/local/lib/python3.6/dist-packages (7.3.0)\n",
            "Requirement already satisfied: nes-py>=8.0.0 in /usr/local/lib/python3.6/dist-packages (from gym-super-mario-bros) (8.1.1)\n",
            "Requirement already satisfied: numpy>=1.12.1 in /usr/local/lib/python3.6/dist-packages (from nes-py>=8.0.0->gym-super-mario-bros) (1.17.4)\n",
            "Requirement already satisfied: gym>=0.10.9 in /usr/local/lib/python3.6/dist-packages (from nes-py>=8.0.0->gym-super-mario-bros) (0.15.4)\n",
            "Requirement already satisfied: tqdm>=4.19.5 in /usr/local/lib/python3.6/dist-packages (from nes-py>=8.0.0->gym-super-mario-bros) (4.28.1)\n",
            "Requirement already satisfied: pyglet>=1.3.2 in /usr/local/lib/python3.6/dist-packages (from nes-py>=8.0.0->gym-super-mario-bros) (1.3.2)\n",
            "Requirement already satisfied: scipy in /usr/local/lib/python3.6/dist-packages (from gym>=0.10.9->nes-py>=8.0.0->gym-super-mario-bros) (1.3.3)\n",
            "Requirement already satisfied: opencv-python in /usr/local/lib/python3.6/dist-packages (from gym>=0.10.9->nes-py>=8.0.0->gym-super-mario-bros) (4.1.2.30)\n",
            "Requirement already satisfied: cloudpickle~=1.2.0 in /usr/local/lib/python3.6/dist-packages (from gym>=0.10.9->nes-py>=8.0.0->gym-super-mario-bros) (1.2.2)\n",
            "Requirement already satisfied: six in /usr/local/lib/python3.6/dist-packages (from gym>=0.10.9->nes-py>=8.0.0->gym-super-mario-bros) (1.12.0)\n",
            "Requirement already satisfied: future in /usr/local/lib/python3.6/dist-packages (from pyglet>=1.3.2->nes-py>=8.0.0->gym-super-mario-bros) (0.16.0)\n",
            "Requirement already satisfied: keras==2.3.1 in /usr/local/lib/python3.6/dist-packages (2.3.1)\n",
            "Requirement already satisfied: keras-applications>=1.0.6 in /usr/local/lib/python3.6/dist-packages (from keras==2.3.1) (1.0.8)\n",
            "Requirement already satisfied: h5py in /usr/local/lib/python3.6/dist-packages (from keras==2.3.1) (2.8.0)\n",
            "Requirement already satisfied: pyyaml in /usr/local/lib/python3.6/dist-packages (from keras==2.3.1) (3.13)\n",
            "Requirement already satisfied: keras-preprocessing>=1.0.5 in /usr/local/lib/python3.6/dist-packages (from keras==2.3.1) (1.1.0)\n",
            "Requirement already satisfied: scipy>=0.14 in /usr/local/lib/python3.6/dist-packages (from keras==2.3.1) (1.3.3)\n",
            "Requirement already satisfied: six>=1.9.0 in /usr/local/lib/python3.6/dist-packages (from keras==2.3.1) (1.12.0)\n",
            "Requirement already satisfied: numpy>=1.9.1 in /usr/local/lib/python3.6/dist-packages (from keras==2.3.1) (1.17.4)\n",
            "Requirement already satisfied: matplotlib in /usr/local/lib/python3.6/dist-packages (3.1.2)\n",
            "Requirement already satisfied: cycler>=0.10 in /usr/local/lib/python3.6/dist-packages (from matplotlib) (0.10.0)\n",
            "Requirement already satisfied: numpy>=1.11 in /usr/local/lib/python3.6/dist-packages (from matplotlib) (1.17.4)\n",
            "Requirement already satisfied: python-dateutil>=2.1 in /usr/local/lib/python3.6/dist-packages (from matplotlib) (2.6.1)\n",
            "Requirement already satisfied: kiwisolver>=1.0.1 in /usr/local/lib/python3.6/dist-packages (from matplotlib) (1.1.0)\n",
            "Requirement already satisfied: pyparsing!=2.0.4,!=2.1.2,!=2.1.6,>=2.0.1 in /usr/local/lib/python3.6/dist-packages (from matplotlib) (2.4.5)\n",
            "Requirement already satisfied: six in /usr/local/lib/python3.6/dist-packages (from cycler>=0.10->matplotlib) (1.12.0)\n",
            "Requirement already satisfied: setuptools in /usr/local/lib/python3.6/dist-packages (from kiwisolver>=1.0.1->matplotlib) (42.0.2)\n",
            "Hit:1 https://cloud.r-project.org/bin/linux/ubuntu bionic-cran35/ InRelease\n",
            "Ign:2 https://developer.download.nvidia.com/compute/cuda/repos/ubuntu1804/x86_64  InRelease\n",
            "Ign:3 https://developer.download.nvidia.com/compute/machine-learning/repos/ubuntu1804/x86_64  InRelease\n",
            "Hit:4 https://developer.download.nvidia.com/compute/cuda/repos/ubuntu1804/x86_64  Release\n",
            "Hit:5 https://developer.download.nvidia.com/compute/machine-learning/repos/ubuntu1804/x86_64  Release\n",
            "Hit:6 http://security.ubuntu.com/ubuntu bionic-security InRelease\n",
            "Hit:7 http://ppa.launchpad.net/graphics-drivers/ppa/ubuntu bionic InRelease\n",
            "Hit:9 http://archive.ubuntu.com/ubuntu bionic InRelease\n",
            "Hit:11 http://archive.ubuntu.com/ubuntu bionic-updates InRelease\n",
            "Hit:12 http://ppa.launchpad.net/marutter/c2d4u3.5/ubuntu bionic InRelease\n",
            "Hit:13 http://archive.ubuntu.com/ubuntu bionic-backports InRelease\n",
            "Reading package lists...\n",
            "Reading package lists...\n",
            "Building dependency tree...\n",
            "Reading state information...\n",
            "ffmpeg is already the newest version (7:3.4.6-0ubuntu0.18.04.1).\n",
            "The following package was automatically installed and is no longer required:\n",
            "  libnvidia-common-430\n",
            "Use 'apt autoremove' to remove it.\n",
            "0 upgraded, 0 newly installed, 0 to remove and 19 not upgraded.\n",
            "Reading package lists...\n",
            "Building dependency tree...\n",
            "Reading state information...\n",
            "libsm6 is already the newest version (2:1.2.2-1).\n",
            "libxext6 is already the newest version (2:1.3.3-1).\n",
            "The following package was automatically installed and is no longer required:\n",
            "  libnvidia-common-430\n",
            "Use 'apt autoremove' to remove it.\n",
            "0 upgraded, 0 newly installed, 0 to remove and 19 not upgraded.\n"
          ],
          "name": "stdout"
        }
      ]
    },
    {
      "cell_type": "markdown",
      "metadata": {
        "id": "8JhwyrUisAji",
        "colab_type": "text"
      },
      "source": [
        "**OpenAI's Gym toolkit documentation:**\n",
        "\n",
        "http://gym.openai.com/docs/#observations\n"
      ]
    },
    {
      "cell_type": "code",
      "metadata": {
        "id": "ybfHFrASx64P",
        "colab_type": "code",
        "colab": {}
      },
      "source": [
        "# VIDEO_MONITOR_DIR = \"/content/gdrive/My Drive/development/ai/2-mario-ai-dqn/video/\"\n",
        "VIDEO_MONITOR_DIR = \"/content/video/\"\n",
        "STATE_SAVE_DIR = \"/content/gdrive/My Drive/development/ai/2-mario-ai-dqn\"\n",
        "\n",
        "# how many states/steps to keep in memory for training sampling\n",
        "MEMORY_CAPACITY = 20000\n",
        "# number of steps to fill memory before starting to train\n",
        "BURN_IN_STEPS = 5000\n",
        "# how many frames (previous + last one) to keep in history per state\n",
        "# a few frames are needed in order for the network to understand movement/motion\n",
        "FRAME_SKIP_STACK_SIZE = 4\n",
        "# how many states to use per training iteration\n",
        "TRAIN_BATCH_SIZE = 32\n",
        "# how many steps to wait until updating target model\n",
        "TARGET_UPDATE_FREQUENCY = 500\n",
        "# epsilon settings for DQN\n",
        "EPSILON_START = .99\n",
        "EPSILON_START = .01\n",
        "EPSILON_MIN = .05\n",
        "EPSILON_DECAY = 0.99995\n",
        "# gradient descent!\n",
        "LEARNING_RATE = 1e-4\n",
        "\n",
        "# during frame capture, we will resize frame down to 84x84 pixels\n",
        "SHAPE_SIZE = (84, 84, 1)"
      ],
      "execution_count": 0,
      "outputs": []
    },
    {
      "cell_type": "markdown",
      "metadata": {
        "id": "VH4OcuFzMDj1",
        "colab_type": "text"
      },
      "source": [
        "Lets setup the environment to play Super Mario Bros! We will import the gym_super_mario_bros library to run our game.\n",
        "\n",
        "The video recording (gym.wrappers.Monitor) lib requires the close() call to flush the video data onto disk, but close() causes issues with the mario env to not be rerunnable. Lets fix that:"
      ]
    },
    {
      "cell_type": "code",
      "metadata": {
        "id": "Jwj-X4D3EkTO",
        "colab_type": "code",
        "colab": {}
      },
      "source": [
        "import cv2\n",
        "import gym\n",
        "from gym import Wrapper\n",
        "from gym.spaces import Box\n",
        "import gym_super_mario_bros\n",
        "from gym_super_mario_bros.actions import SIMPLE_MOVEMENT, COMPLEX_MOVEMENT, RIGHT_ONLY\n",
        "from nes_py.wrappers import JoypadSpace\n",
        "import numpy as np\n",
        "\n",
        "class NoCloseFix(Wrapper):\n",
        "  # allow create_env to be rerunnable. monitor needs close to write mp4 file...\n",
        "  def close(self):\n",
        "    self.env.reset()\n"
      ],
      "execution_count": 0,
      "outputs": []
    },
    {
      "cell_type": "markdown",
      "metadata": {
        "id": "3QGa7vRlYk56",
        "colab_type": "text"
      },
      "source": [
        "Original NES video frames are 240x256 RGB pixels. We can downscale to reduce the amount of inputs our network needs and still provide accurate results! Lets also remove color information since that isn't needed to beat the game."
      ]
    },
    {
      "cell_type": "code",
      "metadata": {
        "id": "FSSIzI9rYiiR",
        "colab_type": "code",
        "colab": {}
      },
      "source": [
        "class CustomViewport(Wrapper):\n",
        "  def __init__(self, env=None):\n",
        "    super(CustomViewport, self).__init__(env)\n",
        "    # nes resolution: (240 vertical, 256 horizontal, 3 rgb)\n",
        "    self.observation_space = Box(low=0, high=1, shape=(240, 256, 1))\n",
        "    self.observation_space = Box(low=0, high=1, shape=SHAPE_SIZE)\n",
        "\n",
        "  def step(self, action):\n",
        "    state, reward, done, info = self.env.step(action)\n",
        "    state = self.process_frame(state)\n",
        "    return state, reward, done, info\n",
        "  \n",
        "  # process_frame for monitoring video\n",
        "  def render(self, mode):\n",
        "    state = self.env.render(mode)\n",
        "    state = self.process_frame(state)\n",
        "    # convert grayscale back to 3 channel rgb:\n",
        "    # ([1,2],)*2 = ([1, 2], [1, 2])\n",
        "    state = np.stack((state,)*3, axis=-1)\n",
        "    return (state * 255).astype(np.uint8)\n",
        "\n",
        "  def reset(self):\n",
        "    return self.process_frame(self.env.reset())\n",
        "  \n",
        "  def process_frame(self, frame):\n",
        "    frame = cv2.cvtColor(frame, cv2.COLOR_RGB2GRAY)\n",
        "    frame = cv2.resize(frame, (SHAPE_SIZE[0], SHAPE_SIZE[1]), interpolation=cv2.INTER_AREA)\n",
        "    return frame / 255.0\n"
      ],
      "execution_count": 0,
      "outputs": []
    },
    {
      "cell_type": "markdown",
      "metadata": {
        "id": "Z-G8J--TYN8R",
        "colab_type": "text"
      },
      "source": [
        "A single frame is not enough to take action upon. We need to whether we are moving to make a decision and that requires a few frames:"
      ]
    },
    {
      "cell_type": "code",
      "metadata": {
        "id": "RnYsMOL1LRQe",
        "colab_type": "code",
        "colab": {}
      },
      "source": [
        "class CustomSkipFrame(Wrapper):\n",
        "  def __init__(self, env, skip=4):\n",
        "    super(CustomSkipFrame, self).__init__(env)\n",
        "    self.observation_space = Box(low=0, high=1, shape=(SHAPE_SIZE[0], SHAPE_SIZE[1], FRAME_SKIP_STACK_SIZE))\n",
        "    self.skip = skip\n",
        "\n",
        "  def step(self, action):\n",
        "    total_reward = 0.0\n",
        "    state, reward, done, info = self.env.step(action)\n",
        "    state = state.reshape(state.shape[0], state.shape[1], 1) #60x64x1\n",
        "    states = state\n",
        "\n",
        "    for i in range(self.skip - 1):\n",
        "      if not done:\n",
        "        state, reward, done, info = self.env.step(action)\n",
        "        state = state.reshape(state.shape[0], state.shape[1], 1) #60x64x1\n",
        "        total_reward += reward\n",
        "        states = np.append(state, states[:, :, :], axis=2)\n",
        "      else:\n",
        "        total_reward += reward\n",
        "        states = np.append(state, states[:, :, :], axis=2)\n",
        "    \n",
        "    return states.astype(np.float32), total_reward, done, info\n",
        "\n",
        "  def reset(self):\n",
        "      state = self.env.reset()\n",
        "      states = np.stack((state,)*FRAME_SKIP_STACK_SIZE, axis=-1)\n",
        "      return states\n"
      ],
      "execution_count": 0,
      "outputs": []
    },
    {
      "cell_type": "markdown",
      "metadata": {
        "id": "400_cQ6dI2Po",
        "colab_type": "text"
      },
      "source": [
        "The gym-super-mario-bros has its own reward function:\n",
        "\n",
        "https://github.com/Kautenja/gym-super-mario-bros#reward-function\n",
        "\n",
        "We will add some more incentives to the environment:"
      ]
    },
    {
      "cell_type": "code",
      "metadata": {
        "id": "NJG_FBDtIz8l",
        "colab_type": "code",
        "colab": {}
      },
      "source": [
        "class CustomReward(Wrapper):\n",
        "  def __init__(self, env=None):\n",
        "    super(CustomReward, self).__init__(env)\n",
        "    self._current_score = 0\n",
        "\n",
        "  def step(self, action):\n",
        "    state, reward, done, info = self.env.step(action)\n",
        "    reward += (info['score'] - self._current_score) / 40.0\n",
        "    self._current_score = info['score']\n",
        "    if done:\n",
        "      if info['flag_get']:\n",
        "        reward += 350.0\n",
        "      else:\n",
        "        reward -= 50.0\n",
        "    return state, reward / 10.0, done, info\n"
      ],
      "execution_count": 0,
      "outputs": []
    },
    {
      "cell_type": "markdown",
      "metadata": {
        "id": "SV0CL9nlIgHM",
        "colab_type": "text"
      },
      "source": [
        "Lets combine all the previous wrappers to produce a usable environment for our AI model:"
      ]
    },
    {
      "cell_type": "code",
      "metadata": {
        "id": "a8nyVVrqIeYA",
        "colab_type": "code",
        "colab": {}
      },
      "source": [
        "def create_env():\n",
        "  world = 1\n",
        "  stage = 1\n",
        "  env = gym_super_mario_bros.make(\"SuperMarioBros-{}-{}-v0\".format(world, stage))\n",
        "  \n",
        "  # lets allow our environment to have full movement\n",
        "  actions = COMPLEX_MOVEMENT\n",
        "  env = JoypadSpace(env, actions)\n",
        "\n",
        "  print(env.observation_space.shape)\n",
        "  env = NoCloseFix(env)\n",
        "  env = gym.wrappers.Monitor(env, VIDEO_MONITOR_DIR, video_callable=lambda episode_id: True, force = False)\n",
        "  env = CustomViewport(env)\n",
        "  env = CustomSkipFrame(env)\n",
        "  env = CustomReward(env)\n",
        "\n",
        "  return env\n"
      ],
      "execution_count": 0,
      "outputs": []
    },
    {
      "cell_type": "markdown",
      "metadata": {
        "id": "0WnUC8nVZhTU",
        "colab_type": "text"
      },
      "source": [
        "Now we start defining the real model that learns how to play mario:"
      ]
    },
    {
      "cell_type": "code",
      "metadata": {
        "id": "xb3Vv_h54LQm",
        "colab_type": "code",
        "outputId": "67f4f4b6-9df5-4173-d69b-88ba147e5ba9",
        "colab": {
          "base_uri": "https://localhost:8080/",
          "height": 80
        }
      },
      "source": [
        "from keras.layers import Conv2D\n",
        "from keras.layers import Dense\n",
        "from keras.layers import Flatten\n",
        "from keras.models import Sequential\n",
        "from keras.optimizers import Adam\n",
        "\n",
        "from collections import deque\n",
        "import random\n",
        "\n",
        "class DQN:\n",
        "  def dummy(self):\n",
        "    pass\n"
      ],
      "execution_count": 0,
      "outputs": [
        {
          "output_type": "stream",
          "text": [
            "Using TensorFlow backend.\n"
          ],
          "name": "stderr"
        },
        {
          "output_type": "display_data",
          "data": {
            "text/html": [
              "<p style=\"color: red;\">\n",
              "The default version of TensorFlow in Colab will soon switch to TensorFlow 2.x.<br>\n",
              "We recommend you <a href=\"https://www.tensorflow.org/guide/migrate\" target=\"_blank\">upgrade</a> now \n",
              "or ensure your notebook will continue to use TensorFlow 1.x via the <code>%tensorflow_version 1.x</code> magic:\n",
              "<a href=\"https://colab.research.google.com/notebooks/tensorflow_version.ipynb\" target=\"_blank\">more info</a>.</p>\n"
            ],
            "text/plain": [
              "<IPython.core.display.HTML object>"
            ]
          },
          "metadata": {
            "tags": []
          }
        }
      ]
    },
    {
      "cell_type": "code",
      "metadata": {
        "id": "yClIYuAi6LH4",
        "colab_type": "code",
        "colab": {}
      },
      "source": [
        "class DQN(DQN):\n",
        "\n",
        "  def __init__(self, env):\n",
        "    self.env = env\n",
        "    self.memory = deque(maxlen=MEMORY_CAPACITY)\n",
        "    \n",
        "    self.epsilon = EPSILON_START\n",
        "    self.epsilon_min = EPSILON_MIN\n",
        "    self.epsilon_decay = EPSILON_DECAY\n",
        "    self.learning_rate = LEARNING_RATE\n",
        "    self.gamma = 0.85\n",
        "    self.tau = .125\n",
        "    self.step_count = 1\n",
        "    self.target_update_frequency = TARGET_UPDATE_FREQUENCY\n",
        "\n",
        "    self.model = self.create_model()\n",
        "    self.target_model = self.create_model()\n"
      ],
      "execution_count": 0,
      "outputs": []
    },
    {
      "cell_type": "markdown",
      "metadata": {
        "id": "XR_lc-SfaAW5",
        "colab_type": "text"
      },
      "source": [
        "The is the actual neural network that predicts how much total reward will be produced based off the current input video frames. Output is the reward per possible action (left, right, up, down, etc...):"
      ]
    },
    {
      "cell_type": "code",
      "metadata": {
        "id": "Znz_UbVt2I6-",
        "colab_type": "code",
        "colab": {}
      },
      "source": [
        "from keras.models import load_model\n",
        "\n",
        "class DQN(DQN):\n",
        "\n",
        "  def create_model(self):\n",
        "    input_shape = self.env.observation_space.shape\n",
        "    input_shape = (input_shape[0], input_shape[1], FRAME_SKIP_STACK_SIZE)\n",
        "\n",
        "    model = Sequential()\n",
        "    model.add(Conv2D(32, 8, strides=4, activation='relu', kernel_initializer='he_uniform', padding='same', input_shape=input_shape))\n",
        "    model.add(Conv2D(64, 4, strides=2, activation='relu', kernel_initializer='he_uniform', padding='same'))\n",
        "    model.add(Conv2D(64, 3, strides=1, activation='relu', kernel_initializer='he_uniform', padding='same'))\n",
        "    model.add(Flatten())\n",
        "    model.add(Dense(512, activation='relu', kernel_initializer='he_uniform'))\n",
        "    model.add(Dense(self.env.action_space.n))\n",
        "\n",
        "    model.compile(loss=\"mean_squared_error\", optimizer=Adam(lr=self.learning_rate))\n",
        "    return model\n",
        "  \n",
        "  def save_model(self, fn):\n",
        "    self.model.save(fn)\n",
        "\n",
        "  def load_model(self, fn):\n",
        "    self.model = load_model(fn)\n",
        "    target_weights = self.model.get_weights()\n",
        "    self.target_model.set_weights(target_weights)"
      ],
      "execution_count": 0,
      "outputs": []
    },
    {
      "cell_type": "markdown",
      "metadata": {
        "id": "m8CqQHNdaYS0",
        "colab_type": "text"
      },
      "source": [
        "In the early stages of the agent's lifetime, the agent hasnt experienced/learned about rewards for each possible action. The epsilon variable forces the agent to choose a random action. Over time the value of epsilon decreases to allow the agent to make its own decisions when it has enough training:"
      ]
    },
    {
      "cell_type": "code",
      "metadata": {
        "id": "wcwK_tWH2Nfq",
        "colab_type": "code",
        "colab": {}
      },
      "source": [
        "class DQN(DQN):\n",
        "  \n",
        "  def act_train(self, state):\n",
        "    self.epsilon *= self.epsilon_decay\n",
        "    self.epsilon = max(self.epsilon_min, self.epsilon)\n",
        "    if np.random.random() < self.epsilon:\n",
        "      # print(\"random action: %f\" % (self.epsilon))\n",
        "      return self.env.action_space.sample()\n",
        "    return np.argmax(self.model.predict(state)[0])\n",
        "  \n",
        "  def act_test(self, state):\n",
        "    return np.argmax(self.target_model.predict(state)[0])"
      ],
      "execution_count": 0,
      "outputs": []
    },
    {
      "cell_type": "markdown",
      "metadata": {
        "id": "EY10kjY0awJI",
        "colab_type": "text"
      },
      "source": [
        "As we progress through the environment, we will memorize the actions we have taken and the reward we received. We use that to define the error function for the neural network.\n",
        "\n",
        "Make note that the target value is not just the immediate reward for the current action, but a prediction of what will be rewarded for future possible actions."
      ]
    },
    {
      "cell_type": "code",
      "metadata": {
        "id": "KpqdbybrV2t-",
        "colab_type": "code",
        "colab": {}
      },
      "source": [
        "class DQN(DQN):\n",
        "  \n",
        "  def memorize(self, state, action, reward, new_state, done):\n",
        "    self.memory.append([state, action, reward, new_state, done])\n",
        "    self.step_count += 1\n",
        "  \n",
        "  def replay(self):\n",
        "    if self.step_count < BURN_IN_STEPS:\n",
        "      return\n",
        "    if len(self.memory) < TRAIN_BATCH_SIZE: \n",
        "      return\n",
        "    \n",
        "    samples = random.sample(self.memory, TRAIN_BATCH_SIZE)\n",
        "    batch_state = np.zeros((TRAIN_BATCH_SIZE, SHAPE_SIZE[0], SHAPE_SIZE[1], FRAME_SKIP_STACK_SIZE))\n",
        "    batch_new_state = np.zeros((TRAIN_BATCH_SIZE, SHAPE_SIZE[0], SHAPE_SIZE[1], FRAME_SKIP_STACK_SIZE))\n",
        "    \n",
        "    for i in range(TRAIN_BATCH_SIZE):\n",
        "      state, action, reward, new_state, done = samples[i]\n",
        "      batch_state[i] = state\n",
        "      batch_new_state[i] = new_state\n",
        "    \n",
        "    # do batch prediction to save speed\n",
        "    # predict Q-values for starting state using the main network\n",
        "    target = self.model.predict(batch_state)\n",
        "    Q_future = self.target_model.predict(batch_new_state)\n",
        "    \n",
        "    for i in range(TRAIN_BATCH_SIZE):\n",
        "      state, action, reward, new_state, done = samples[i]\n",
        "      # target = self.model.predict(state)\n",
        "      if done:\n",
        "        target[i][action] = reward\n",
        "      else:\n",
        "        # Q_future = max(self.target_model.predict(new_state)[0])\n",
        "        target[i][action] = reward + max(Q_future[i]) * self.gamma\n",
        "    \n",
        "    self.model.fit(batch_state, target, batch_size=TRAIN_BATCH_SIZE, epochs=1, verbose=0)\n",
        "    \n",
        "  def target_train(self):\n",
        "    if self.step_count < BURN_IN_STEPS:\n",
        "      return\n",
        "    if (self.step_count - BURN_IN_STEPS) % self.target_update_frequency == 0:\n",
        "      print(\"Updating training weights...\")\n",
        "      weights = self.model.get_weights()\n",
        "      target_weights = self.target_model.get_weights()\n",
        "      for i in range(len(target_weights)):\n",
        "        target_weights[i] = weights[i] * self.tau + target_weights[i] * (1 - self.tau)\n",
        "      self.target_model.set_weights(target_weights)"
      ],
      "execution_count": 0,
      "outputs": []
    },
    {
      "cell_type": "markdown",
      "metadata": {
        "id": "bppeKWAOb4sl",
        "colab_type": "text"
      },
      "source": [
        "Here is the code that actually runs the environment and the model together. It will take time to train..."
      ]
    },
    {
      "cell_type": "code",
      "metadata": {
        "id": "NsqQ61ipuk15",
        "colab_type": "code",
        "colab": {}
      },
      "source": [
        "import keras\n",
        "import gc\n",
        "import json\n",
        "\n",
        "import matplotlib.pyplot as plt\n",
        "from IPython import display\n",
        "\n",
        "def model_load(dqn_agent):\n",
        "  print(\"Loading existing model...\")\n",
        "  dqn_agent.load_model(STATE_SAVE_DIR + \"/mario-ai.h5\")\n",
        "  with open(STATE_SAVE_DIR + \"/mario-ai.json\") as f:\n",
        "    model_info = json.load(f)\n",
        "  return model_info\n",
        "\n",
        "def model_save(dqn_agent, info):\n",
        "  print(\"Saving state...\")\n",
        "  dqn_agent.save_model(STATE_SAVE_DIR + \"/mario-ai.h5\")\n",
        "  with open(STATE_SAVE_DIR + \"/mario-ai.json\", \"w\") as f:\n",
        "    f.write(json.dumps(info))\n",
        "\n",
        "def run_episode(env, dqn_agent, run_info, train, episode, total_step):\n",
        "  episode_reward = 0.0\n",
        "  stage_step = 0\n",
        "\n",
        "  # http://gym.openai.com/docs/#observations\n",
        "  # state = np.ndarray = image data for game\n",
        "  state = env.reset()\n",
        "  # In Keras, need to reshape to add an extra dimension for number of samples: (num_samples, w, h, channels)\n",
        "  state = state.reshape(1, state.shape[0], state.shape[1], state.shape[2])  #1*80*80*4\n",
        "\n",
        "  while (True):\n",
        "    if train:\n",
        "      action = dqn_agent.act_train(state)\n",
        "    else:\n",
        "      action = dqn_agent.act_test(state)\n",
        "    \n",
        "    new_state, reward, done, info = env.step(action)\n",
        "    new_state = new_state.reshape(1, new_state.shape[0], new_state.shape[1], new_state.shape[2])  #1*80*80*4\n",
        "    episode_reward += reward\n",
        "\n",
        "    if stage_step % 50 == 0:\n",
        "      # print(\"[Time=%3d][Steps={total:%d|episode:%d|stage:%d}][x=%d][y=%d][Reward={total:%f|step:%f}][action=%s][epsilon=%f]\" \n",
        "      #   % (info[\"time\"], total_step, episode, stage_step, info[\"x_pos\"], info[\"y_pos\"], episode_reward, reward, COMPLEX_MOVEMENT[action], dqn_agent.epsilon))\n",
        "      print(\"[Time=%3d][Steps={total:%d|episode:%d|stage:%d}][x=%d][y=%d][Reward={total:%f|step:%f}][epsilon=%f]\" \n",
        "        % (info[\"time\"], total_step, episode, stage_step, info[\"x_pos\"], info[\"y_pos\"], episode_reward, reward, dqn_agent.epsilon))\n",
        "\n",
        "    if train:\n",
        "      dqn_agent.memorize(state, action, reward, new_state, done)\n",
        "      dqn_agent.replay() # internally iterates default (prediction) model\n",
        "      dqn_agent.target_train() # iterates target model\n",
        "\n",
        "      if total_step > BURN_IN_STEPS and (total_step - BURN_IN_STEPS + 1) % 5000 == 0:\n",
        "        model_save(dqn_agent, run_info)\n",
        "    \n",
        "    state = new_state\n",
        "    total_step += 1\n",
        "    stage_step += 1\n",
        "\n",
        "    if done:\n",
        "      break\n",
        "  \n",
        "  return stage_step, episode_reward, info[\"x_pos\"]\n",
        "\n",
        "def main(env, load, train):\n",
        "  info = {}\n",
        "  info[\"hist_reward\"] = []\n",
        "  info[\"hist_x_pos\"] = []\n",
        "  info[\"hist_episode\"] = []\n",
        "  print(env.observation_space.shape)\n",
        "\n",
        "  dqn_agent = DQN(env=env)\n",
        "  total_step = 0\n",
        "  episode = 0\n",
        "\n",
        "  if load:\n",
        "    info = model_load(dqn_agent)\n",
        "    episode = max(info[\"hist_episode\"]) + 1\n",
        "\n",
        "  while (True):\n",
        "    stage_step, reward, x_pos = run_episode(env, dqn_agent, info, train, episode, total_step)\n",
        "    print('[Episode=%d][Reward=%f][x=%d]' % (episode, reward, x_pos))\n",
        "\n",
        "    if total_step > BURN_IN_STEPS:\n",
        "      info[\"hist_reward\"].append(reward)\n",
        "      info[\"hist_x_pos\"].append(int(x_pos))\n",
        "      info[\"hist_episode\"].append(int(episode))\n",
        "\n",
        "      display.clear_output(wait=True)\n",
        "      display.display(plt.gcf())\n",
        "      plt.clf()\n",
        "      fig, (ax1, ax2) = plt.subplots(2)\n",
        "      ax1.plot(info[\"hist_episode\"], info[\"hist_x_pos\"])\n",
        "      ax2.plot(info[\"hist_episode\"], info[\"hist_reward\"])\n",
        "      plt.show()\n",
        "\n",
        "      episode += 1\n",
        "    \n",
        "    total_step += stage_step\n",
        "\n",
        "  del dqn_agent"
      ],
      "execution_count": 0,
      "outputs": []
    },
    {
      "cell_type": "markdown",
      "metadata": {
        "id": "6YVvvBknZoIy",
        "colab_type": "text"
      },
      "source": [
        "Lets clean up any left over video files from a previous run:"
      ]
    },
    {
      "cell_type": "code",
      "metadata": {
        "id": "A_YMXVCLjiRq",
        "colab_type": "code",
        "colab": {}
      },
      "source": [
        "import shutil\n",
        "# clean up video folder before each run!\n",
        "shutil.rmtree(VIDEO_MONITOR_DIR)"
      ],
      "execution_count": 0,
      "outputs": []
    },
    {
      "cell_type": "markdown",
      "metadata": {
        "id": "FyQkrjp5Zskd",
        "colab_type": "text"
      },
      "source": [
        "Now we start training!:"
      ]
    },
    {
      "cell_type": "code",
      "metadata": {
        "id": "-QRrCnNzhbY_",
        "colab_type": "code",
        "colab": {}
      },
      "source": [
        "from tensorflow.python.client import device_lib\n",
        "print(device_lib.list_local_devices())\n",
        "\n",
        "try:\n",
        "  env = create_env()\n",
        "  main(env, load=False, train=True)\n",
        "finally:\n",
        "  env.close()\n",
        "  keras.backend.clear_session()\n",
        "  gc.collect()"
      ],
      "execution_count": 0,
      "outputs": []
    },
    {
      "cell_type": "markdown",
      "metadata": {
        "id": "UfrSOdtkZxwv",
        "colab_type": "text"
      },
      "source": [
        "After training, we can run a test against our model:"
      ]
    },
    {
      "cell_type": "code",
      "metadata": {
        "id": "5-NxsCOsIxzS",
        "colab_type": "code",
        "colab": {}
      },
      "source": [
        "try:\n",
        "  env = create_env()\n",
        "  main(env, load=True, train=False)\n",
        "finally:\n",
        "  env.close()\n",
        "  keras.backend.clear_session()\n",
        "  gc.collect()"
      ],
      "execution_count": 0,
      "outputs": []
    },
    {
      "cell_type": "markdown",
      "metadata": {
        "id": "Cb40xj4CZ26E",
        "colab_type": "text"
      },
      "source": [
        "Here is the results of our training on about 12000 episodes:"
      ]
    },
    {
      "cell_type": "code",
      "metadata": {
        "id": "swfwxw64pXFe",
        "colab_type": "code",
        "outputId": "8acd0f3c-c975-45ec-fe00-083ab3742270",
        "colab": {
          "base_uri": "https://localhost:8080/",
          "height": 265
        }
      },
      "source": [
        "with open(STATE_SAVE_DIR + \"/mario-ai.json\") as f:\n",
        "  info = json.load(f)\n",
        "\n",
        "fig, (ax1, ax2) = plt.subplots(2)\n",
        "ax1.plot(info[\"hist_episode\"], info[\"hist_x_pos\"])\n",
        "ax2.plot(info[\"hist_episode\"], info[\"hist_reward\"])\n",
        "plt.show()"
      ],
      "execution_count": 0,
      "outputs": [
        {
          "output_type": "display_data",
          "data": {
            "image/png": "[encoded data removed]",
            "text/plain": [
              "<Figure size 432x288 with 2 Axes>"
            ]
          },
          "metadata": {
            "tags": []
          }
        }
      ]
    },
    {
      "cell_type": "markdown",
      "metadata": {
        "id": "wqh8m62zX9q4",
        "colab_type": "text"
      },
      "source": [
        "Video of DQN agent completing the first level: [link](https://drive.google.com/file/d/1B0pc3Hfj1DneOXxMNPJyKLvCDg7nVWN3/view?usp=sharing)"
      ]
    }
  ]
}