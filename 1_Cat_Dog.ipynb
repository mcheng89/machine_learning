{
  "nbformat": 4,
  "nbformat_minor": 0,
  "metadata": {
    "colab": {
      "name": "1. Cat/Dog.ipynb",
      "provenance": [],
      "collapsed_sections": []
    },
    "kernelspec": {
      "name": "python3",
      "display_name": "Python 3"
    },
    "accelerator": "GPU"
  },
  "cells": [
    {
      "cell_type": "markdown",
      "metadata": {
        "id": "zdOdZeRxd6gD",
        "colab_type": "text"
      },
      "source": [
        "**Pre-reading material:**\n",
        "\n",
        "Basic Neural Network:\n",
        "1. https://towardsdatascience.com/https-medium-com-piotr-skalski92-deep-dive-into-deep-networks-math-17660bc376ba\n",
        "1. https://towardsdatascience.com/lets-code-a-neural-network-in-plain-numpy-ae7e74410795\n",
        "1. https://medium.com/binaryandmore/beginners-guide-to-deriving-and-implementing-backpropagation-e3c1a5a1e536\n",
        "\n",
        "Convolution Neural Networks:\n",
        "1. https://en.m.wikipedia.org/wiki/Kernel_(image_processing)\n",
        "1. https://towardsdatascience.com/a-comprehensive-guide-to-convolutional-neural-networks-the-eli5-way-3bd2b1164a53\n",
        "1. https://medium.com/@apiltamang/a-gentle-dive-into-the-anatomy-of-a-convolution-layer-6f1024339aca\n",
        "1. https://end-to-end-machine-learning.teachable.com/courses/how-deep-neural-networks-work/lectures/9533964\n",
        "1. https://becominghuman.ai/back-propagation-in-convolutional-neural-networks-intuition-and-code-714ef1c38199?gi=c57702fc955d\n",
        "1. https://datascience.stackexchange.com/questions/55545/in-cnn-why-do-we-increase-the-number-of-filters-in-deeper-convolution-layers-fo\n",
        "\n",
        "Cat/Dog recognition project:\n",
        "1. https://machinelearningmastery.com/how-to-develop-a-convolutional-neural-network-to-classify-photos-of-dogs-and-cats/\n",
        "\n"
      ]
    },
    {
      "cell_type": "markdown",
      "metadata": {
        "id": "H4wsjx3BzcSR",
        "colab_type": "text"
      },
      "source": [
        "**Step 1 - Download assets**\n",
        "\n",
        "Lets start off by downloading all the images of cats/dogs to train and test against:\n"
      ]
    },
    {
      "cell_type": "code",
      "metadata": {
        "id": "XGkT8YA4oQAF",
        "colab_type": "code",
        "outputId": "fe4735da-2048-4b95-e8cc-6df900a5b541",
        "colab": {
          "base_uri": "https://localhost:8080/",
          "height": 646
        }
      },
      "source": [
        "%%bash\n",
        "cd /content/\n",
        "mkdir -p assets\n",
        "cd assets\n",
        "\n",
        "pip install kaggle\n",
        "\n",
        "export KAGGLE_USERNAME=mcheng89\n",
        "export KAGGLE_KEY=e07daa138b7a622bf837cc1e1c17aa7f\n",
        "\n",
        "# download dogs/cats assets\n",
        "# NOTE: MAKE SURE TO ACCEPT RULES FIRST\n",
        "# https://www.kaggle.com/c/dogs-vs-cats/rules\n",
        "\n",
        "if [ ! -e \"test1.zip\" ]; then\n",
        "  kaggle competitions download -c dogs-vs-cats\n",
        "else\n",
        "  echo kaggle contents already downloaded\n",
        "fi"
      ],
      "execution_count": 0,
      "outputs": [
        {
          "output_type": "stream",
          "text": [
            "Requirement already satisfied: kaggle in /usr/local/lib/python3.6/dist-packages (1.5.6)\n",
            "Requirement already satisfied: certifi in /usr/local/lib/python3.6/dist-packages (from kaggle) (2019.9.11)\n",
            "Requirement already satisfied: python-slugify in /usr/local/lib/python3.6/dist-packages (from kaggle) (4.0.0)\n",
            "Requirement already satisfied: six>=1.10 in /usr/local/lib/python3.6/dist-packages (from kaggle) (1.12.0)\n",
            "Requirement already satisfied: tqdm in /usr/local/lib/python3.6/dist-packages (from kaggle) (4.28.1)\n",
            "Requirement already satisfied: python-dateutil in /usr/local/lib/python3.6/dist-packages (from kaggle) (2.6.1)\n",
            "Requirement already satisfied: urllib3<1.25,>=1.21.1 in /usr/local/lib/python3.6/dist-packages (from kaggle) (1.24.3)\n",
            "Requirement already satisfied: requests in /usr/local/lib/python3.6/dist-packages (from kaggle) (2.21.0)\n",
            "Requirement already satisfied: text-unidecode>=1.3 in /usr/local/lib/python3.6/dist-packages (from python-slugify->kaggle) (1.3)\n",
            "Requirement already satisfied: idna<2.9,>=2.5 in /usr/local/lib/python3.6/dist-packages (from requests->kaggle) (2.8)\n",
            "Requirement already satisfied: chardet<3.1.0,>=3.0.2 in /usr/local/lib/python3.6/dist-packages (from requests->kaggle) (3.0.4)\n",
            "Warning: Looks like you're using an outdated API Version, please consider updating (server 1.5.6 / client 1.5.4)\n",
            "Downloading sampleSubmission.csv to /content/assets\n",
            "\n",
            "Downloading test1.zip to /content/assets\n",
            "\n",
            "Downloading train.zip to /content/assets\n",
            "\n"
          ],
          "name": "stdout"
        },
        {
          "output_type": "stream",
          "text": [
            "\r  0%|          | 0.00/86.8k [00:00<?, ?B/s]\r100%|##########| 86.8k/86.8k [00:00<00:00, 85.2MB/s]\n",
            "\r  0%|          | 0.00/271M [00:00<?, ?B/s]\r  3%|3         | 9.00M/271M [00:00<00:03, 69.0MB/s]\r  6%|6         | 17.0M/271M [00:00<00:07, 34.1MB/s]\r 16%|#5        | 43.0M/271M [00:00<00:05, 46.2MB/s]\r 26%|##5       | 70.0M/271M [00:00<00:03, 61.5MB/s]\r 35%|###5      | 95.0M/271M [00:00<00:02, 79.7MB/s]\r 42%|####2     | 114M/271M [00:01<00:01, 97.0MB/s] \r 49%|####8     | 132M/271M [00:01<00:01, 108MB/s] \r 57%|#####7    | 155M/271M [00:01<00:00, 128MB/s]\r 65%|######4   | 176M/271M [00:01<00:00, 147MB/s]\r 72%|#######2  | 196M/271M [00:02<00:01, 68.9MB/s]\r 79%|#######9  | 215M/271M [00:02<00:00, 85.6MB/s]\r 89%|########8 | 241M/271M [00:02<00:00, 108MB/s] \r 96%|#########5| 260M/271M [00:02<00:00, 72.3MB/s]\r100%|##########| 271M/271M [00:02<00:00, 99.0MB/s]\n",
            "\r  0%|          | 0.00/543M [00:00<?, ?B/s]\r  2%|1         | 9.00M/543M [00:00<00:06, 83.3MB/s]\r  5%|4         | 25.0M/543M [00:00<00:05, 98.0MB/s]\r  8%|7         | 41.0M/543M [00:00<00:04, 111MB/s] \r 12%|#1        | 64.0M/543M [00:00<00:03, 132MB/s]\r 15%|#5        | 83.0M/543M [00:00<00:03, 146MB/s]\r 20%|#9        | 107M/543M [00:00<00:02, 166MB/s] \r 24%|##4       | 131M/543M [00:00<00:02, 185MB/s]\r 28%|##7       | 151M/543M [00:01<00:04, 97.9MB/s]\r 33%|###2      | 177M/543M [00:01<00:03, 121MB/s] \r 37%|###7      | 201M/543M [00:01<00:02, 137MB/s]\r 41%|####      | 220M/543M [00:01<00:02, 150MB/s]\r 46%|####5     | 248M/543M [00:01<00:01, 176MB/s]\r 50%|####9     | 270M/543M [00:02<00:02, 103MB/s]\r 55%|#####4    | 297M/543M [00:02<00:02, 108MB/s]\r 60%|#####9    | 324M/543M [00:02<00:01, 133MB/s]\r 64%|######3   | 347M/543M [00:02<00:01, 152MB/s]\r 68%|######7   | 367M/543M [00:03<00:02, 75.0MB/s]\r 72%|#######2  | 393M/543M [00:03<00:01, 93.7MB/s]\r 75%|#######5  | 410M/543M [00:03<00:02, 50.4MB/s]\r 79%|#######8  | 429M/543M [00:04<00:01, 64.9MB/s]\r 82%|########2 | 448M/543M [00:04<00:01, 81.1MB/s]\r 87%|########6 | 470M/543M [00:04<00:00, 100MB/s] \r 91%|######### | 492M/543M [00:04<00:00, 120MB/s]\r 94%|#########4| 511M/543M [00:04<00:00, 130MB/s]\r 99%|#########8| 536M/543M [00:04<00:00, 153MB/s]\r100%|##########| 543M/543M [00:04<00:00, 123MB/s]\n"
          ],
          "name": "stderr"
        }
      ]
    },
    {
      "cell_type": "code",
      "metadata": {
        "id": "vcswH7IozU67",
        "colab_type": "code",
        "outputId": "77ef5b25-7c68-4951-ad6d-2cf649b3a29d",
        "colab": {
          "base_uri": "https://localhost:8080/",
          "height": 125
        }
      },
      "source": [
        "%%bash\n",
        "ls -l assets/\n",
        "cd assets/\n",
        "\n",
        "if [ ! -d \"test1\" ]; then\n",
        "  unzip -q test1.zip\n",
        "fi\n",
        "if [ ! -d \"train\" ]; then\n",
        "  unzip -q train.zip\n",
        "fi\n",
        "\n",
        "echo test1: `ls -1 test1 | wc -l`\n",
        "echo train: `ls -1 train | wc -l`\n"
      ],
      "execution_count": 0,
      "outputs": [
        {
          "output_type": "stream",
          "text": [
            "total 833956\n",
            "-rw-r--r-- 1 root root     88903 Nov 15 23:55 sampleSubmission.csv\n",
            "-rw-r--r-- 1 root root 284321224 Nov 15 23:55 test1.zip\n",
            "-rw-r--r-- 1 root root 569546721 Nov 15 23:55 train.zip\n",
            "test1: 12500\n",
            "train: 25000\n"
          ],
          "name": "stdout"
        }
      ]
    },
    {
      "cell_type": "markdown",
      "metadata": {
        "id": "WGu4s5JkogD9",
        "colab_type": "text"
      },
      "source": [
        "**Step 2 - Preprocessing**\n",
        "\n",
        "Keras requires different classes to be in their own subfolders. Preprocessing to arrange files into corresponding folders:"
      ]
    },
    {
      "cell_type": "code",
      "metadata": {
        "id": "toMb9uSIRW05",
        "colab_type": "code",
        "colab": {}
      },
      "source": [
        "from os import makedirs\n",
        "from os import listdir\n",
        "from shutil import copyfile\n",
        "from shutil import rmtree\n",
        "from random import seed\n",
        "from random import random\n",
        "\n",
        "# create directories\n",
        "dataset_home = 'assets/dataset/'\n",
        "subdirs = ['train/', 'test/']\n",
        "for subdir in subdirs:\n",
        "  # create label subdirectories\n",
        "  labeldirs = ['dogs/', 'cats/']\n",
        "  for labldir in labeldirs:\n",
        "    newdir = dataset_home + subdir + labldir\n",
        "    rmtree(newdir, ignore_errors=True)\n",
        "    makedirs(newdir, exist_ok=True)\n",
        "\n",
        "# seed random number generator\n",
        "seed(1)\n",
        "# define ratio of pictures to use for validation\n",
        "val_ratio = 0.25\n",
        "\n",
        "# copy training dataset images into subdirectories\n",
        "src_directory = 'assets/train/'\n",
        "for file in listdir(src_directory):\n",
        "\tsrc = src_directory + '/' + file\n",
        "\tdst_dir = 'train/'\n",
        "\tif random() < val_ratio:\n",
        "\t\tdst_dir = 'test/'\n",
        "\tif file.startswith('cat'):\n",
        "\t\tdst = dataset_home + dst_dir + 'cats/'  + file\n",
        "\t\tcopyfile(src, dst)\n",
        "\telif file.startswith('dog'):\n",
        "\t\tdst = dataset_home + dst_dir + 'dogs/'  + file\n",
        "\t\tcopyfile(src, dst)\n"
      ],
      "execution_count": 0,
      "outputs": []
    },
    {
      "cell_type": "code",
      "metadata": {
        "id": "AVtkSzysT-Me",
        "colab_type": "code",
        "outputId": "9b5f492c-301f-4199-ab3a-c79899558c64",
        "colab": {
          "base_uri": "https://localhost:8080/",
          "height": 102
        }
      },
      "source": [
        "%%bash\n",
        "cd assets/dataset/\n",
        "\n",
        "echo Image count:\n",
        "\n",
        "echo test/cats: `ls -1 test/cats | wc -l` images\n",
        "echo test/dogs: `ls -1 test/dogs | wc -l` images\n",
        "\n",
        "echo train/cats: `ls -1 train/cats | wc -l` images\n",
        "echo train/dogs: `ls -1 train/dogs | wc -l` images\n"
      ],
      "execution_count": 0,
      "outputs": [
        {
          "output_type": "stream",
          "text": [
            "Image count:\n",
            "test/cats: 3175 images\n",
            "test/dogs: 3128 images\n",
            "train/cats: 9325 images\n",
            "train/dogs: 9372 images\n"
          ],
          "name": "stdout"
        }
      ]
    },
    {
      "cell_type": "markdown",
      "metadata": {
        "id": "HfoLhYS3QyYl",
        "colab_type": "text"
      },
      "source": [
        "**Step 3 - Setup work**\n",
        "\n",
        "Base code to execute the model:"
      ]
    },
    {
      "cell_type": "code",
      "metadata": {
        "id": "FfhLh-uT5Shd",
        "colab_type": "code",
        "colab": {}
      },
      "source": [
        "from IPython.display import Image\n",
        "from matplotlib import pyplot\n",
        "from keras.layers import Conv2D\n",
        "from keras.layers import Dense\n",
        "from keras.layers import Flatten\n",
        "from keras.layers import MaxPooling2D\n",
        "from keras.models import Sequential\n",
        "from keras.optimizers import SGD\n",
        "from keras.preprocessing.image import ImageDataGenerator\n",
        "\n",
        "# plot diagnostic learning curves\n",
        "def summarize_diagnostics(history, model_name):\n",
        "  # plot loss\n",
        "  pyplot.subplot(211)\n",
        "  pyplot.title('Cross Entropy Loss')\n",
        "  pyplot.plot(history.history['loss'], color='blue', label='train')\n",
        "  pyplot.plot(history.history['val_loss'], color='orange', label='test')\n",
        "  # plot accuracy\n",
        "  pyplot.subplot(212)\n",
        "  pyplot.title('Classification Accuracy')\n",
        "  pyplot.plot(history.history['acc'], color='blue', label='train')\n",
        "  pyplot.plot(history.history['val_acc'], color='orange', label='test')\n",
        "  # save plot to file\n",
        "  pyplot.savefig(model_name + '_plot.png')\n",
        "  pyplot.close()\n",
        "\n",
        "# run the model!\n",
        "def run_model(model, epochs, model_name):\n",
        "  # create data generator - rescale numbers to be from 0-1 (rgb = 0-255)\n",
        "  train_datagen = ImageDataGenerator(rescale=1.0/255.0)\n",
        "  test_datagen = ImageDataGenerator(rescale=1.0/255.0)\n",
        "  # prepare iterators\n",
        "  train_it = train_datagen.flow_from_directory('assets/dataset/train/',\n",
        "    class_mode='binary', batch_size=64, target_size=(200, 200))\n",
        "  test_it = test_datagen.flow_from_directory('assets/dataset/test/',\n",
        "    class_mode='binary', batch_size=64, target_size=(200, 200))\n",
        "  # fit model\n",
        "  history = model.fit_generator(train_it, steps_per_epoch=len(train_it),\n",
        "    validation_data=test_it, validation_steps=len(test_it), epochs=epochs, verbose=1)\n",
        "  model.save(model_name + '.h5')\n",
        "  # evaluate model\n",
        "  _, acc = model.evaluate_generator(test_it, steps=len(test_it), verbose=1)\n",
        "  print('> %.3f' % (acc * 100.0))\n",
        "  return history"
      ],
      "execution_count": 0,
      "outputs": []
    },
    {
      "cell_type": "markdown",
      "metadata": {
        "id": "9a6JWLGMRDXr",
        "colab_type": "text"
      },
      "source": [
        "Now we actually define the model here:"
      ]
    },
    {
      "cell_type": "code",
      "metadata": {
        "id": "9_bJ8jGVP0Ln",
        "colab_type": "code",
        "colab": {}
      },
      "source": [
        "# define cnn model\n",
        "def define_model1():\n",
        "\tmodel = Sequential()\n",
        "\tmodel.add(Conv2D(64, (3, 3), activation='relu', kernel_initializer='he_uniform', padding='same', input_shape=(200, 200, 3)))\n",
        "\tmodel.add(MaxPooling2D((2, 2)))\n",
        "\tmodel.add(Flatten())\n",
        "\tmodel.add(Dense(128, activation='relu', kernel_initializer='he_uniform'))\n",
        "\tmodel.add(Dense(1, activation='sigmoid'))\n",
        "\t# compile model\n",
        "\topt = SGD(lr=0.001, momentum=0.9)\n",
        "\tmodel.compile(optimizer=opt, loss='binary_crossentropy', metrics=['accuracy'])\n",
        "\treturn model\n"
      ],
      "execution_count": 0,
      "outputs": []
    },
    {
      "cell_type": "markdown",
      "metadata": {
        "id": "XxY-981YRF0G",
        "colab_type": "text"
      },
      "source": [
        "**Step 4 - Attempt #1**\n",
        "\n",
        "Lets trigger the model run:"
      ]
    },
    {
      "cell_type": "code",
      "metadata": {
        "id": "DjdFzP5_RLL9",
        "colab_type": "code",
        "outputId": "43d650b9-a324-4cc1-febb-3e2fb3ade447",
        "colab": {
          "base_uri": "https://localhost:8080/",
          "height": 765
        }
      },
      "source": [
        "from keras.models import load_model\n",
        "\n",
        "# define model\n",
        "model = define_model1()\n",
        "# resume from existing model\n",
        "#model = load_model('model.h5')\n",
        "\n",
        "history = run_model(model, 20, 'model1')\n",
        "# draw learning curves\n",
        "summarize_diagnostics(history, 'model1')"
      ],
      "execution_count": 0,
      "outputs": [
        {
          "output_type": "stream",
          "text": [
            "Found 18697 images belonging to 2 classes.\n",
            "Found 6303 images belonging to 2 classes.\n",
            "Epoch 1/20\n",
            "293/293 [==============================] - 78s 266ms/step - loss: 0.6980 - acc: 0.5508 - val_loss: 0.6600 - val_acc: 0.6011\n",
            "Epoch 2/20\n",
            "293/293 [==============================] - 75s 256ms/step - loss: 0.6533 - acc: 0.6087 - val_loss: 0.6302 - val_acc: 0.6307\n",
            "Epoch 3/20\n",
            "293/293 [==============================] - 75s 257ms/step - loss: 0.6271 - acc: 0.6354 - val_loss: 0.6111 - val_acc: 0.6548\n",
            "Epoch 4/20\n",
            "293/293 [==============================] - 75s 257ms/step - loss: 0.6104 - acc: 0.6570 - val_loss: 0.5947 - val_acc: 0.6756\n",
            "Epoch 5/20\n",
            "293/293 [==============================] - 75s 258ms/step - loss: 0.5893 - acc: 0.6799 - val_loss: 0.5774 - val_acc: 0.6917\n",
            "Epoch 6/20\n",
            "293/293 [==============================] - 76s 258ms/step - loss: 0.5675 - acc: 0.6979 - val_loss: 0.6081 - val_acc: 0.6508\n",
            "Epoch 7/20\n",
            "293/293 [==============================] - 75s 257ms/step - loss: 0.5352 - acc: 0.7293 - val_loss: 0.5499 - val_acc: 0.7217\n",
            "Epoch 8/20\n",
            "293/293 [==============================] - 74s 254ms/step - loss: 0.5062 - acc: 0.7517 - val_loss: 0.5399 - val_acc: 0.7224\n",
            "Epoch 9/20\n",
            "293/293 [==============================] - 75s 256ms/step - loss: 0.4696 - acc: 0.7778 - val_loss: 0.5436 - val_acc: 0.7203\n",
            "Epoch 10/20\n",
            "293/293 [==============================] - 75s 256ms/step - loss: 0.4362 - acc: 0.7966 - val_loss: 0.5346 - val_acc: 0.7254\n",
            "Epoch 11/20\n",
            "293/293 [==============================] - 75s 257ms/step - loss: 0.3922 - acc: 0.8268 - val_loss: 0.5747 - val_acc: 0.7055\n",
            "Epoch 12/20\n",
            "293/293 [==============================] - 75s 255ms/step - loss: 0.3686 - acc: 0.8386 - val_loss: 0.5508 - val_acc: 0.7195\n",
            "Epoch 13/20\n",
            "293/293 [==============================] - 75s 255ms/step - loss: 0.3196 - acc: 0.8696 - val_loss: 0.5408 - val_acc: 0.7382\n",
            "Epoch 14/20\n",
            "293/293 [==============================] - 75s 255ms/step - loss: 0.2904 - acc: 0.8845 - val_loss: 0.5551 - val_acc: 0.7352\n",
            "Epoch 15/20\n",
            "293/293 [==============================] - 75s 256ms/step - loss: 0.2500 - acc: 0.9065 - val_loss: 0.5489 - val_acc: 0.7487\n",
            "Epoch 16/20\n",
            "293/293 [==============================] - 75s 255ms/step - loss: 0.2219 - acc: 0.9184 - val_loss: 0.5881 - val_acc: 0.7360\n",
            "Epoch 17/20\n",
            "293/293 [==============================] - 74s 254ms/step - loss: 0.1925 - acc: 0.9353 - val_loss: 0.6658 - val_acc: 0.7205\n",
            "Epoch 18/20\n",
            "293/293 [==============================] - 75s 255ms/step - loss: 0.1594 - acc: 0.9500 - val_loss: 0.6951 - val_acc: 0.7233\n",
            "Epoch 19/20\n",
            "293/293 [==============================] - 75s 256ms/step - loss: 0.1360 - acc: 0.9615 - val_loss: 0.6917 - val_acc: 0.7287\n",
            "Epoch 20/20\n",
            "293/293 [==============================] - 75s 255ms/step - loss: 0.1068 - acc: 0.9744 - val_loss: 0.7079 - val_acc: 0.7303\n",
            "99/99 [==============================] - 19s 190ms/step\n",
            "> 73.029\n"
          ],
          "name": "stdout"
        }
      ]
    },
    {
      "cell_type": "code",
      "metadata": {
        "id": "rc_Mit7MyHwW",
        "colab_type": "code",
        "outputId": "578e7345-5479-42e4-db48-14e5225c919a",
        "colab": {
          "base_uri": "https://localhost:8080/",
          "height": 323
        }
      },
      "source": [
        "model.summary()"
      ],
      "execution_count": 0,
      "outputs": [
        {
          "output_type": "stream",
          "text": [
            "Model: \"sequential_5\"\n",
            "_________________________________________________________________\n",
            "Layer (type)                 Output Shape              Param #   \n",
            "=================================================================\n",
            "conv2d_5 (Conv2D)            (None, 200, 200, 32)      896       \n",
            "_________________________________________________________________\n",
            "max_pooling2d_5 (MaxPooling2 (None, 100, 100, 32)      0         \n",
            "_________________________________________________________________\n",
            "flatten_5 (Flatten)          (None, 320000)            0         \n",
            "_________________________________________________________________\n",
            "dense_9 (Dense)              (None, 128)               40960128  \n",
            "_________________________________________________________________\n",
            "dense_10 (Dense)             (None, 1)                 129       \n",
            "=================================================================\n",
            "Total params: 40,961,153\n",
            "Trainable params: 40,961,153\n",
            "Non-trainable params: 0\n",
            "_________________________________________________________________\n"
          ],
          "name": "stdout"
        }
      ]
    },
    {
      "cell_type": "code",
      "metadata": {
        "id": "-G7mY42AJmIy",
        "colab_type": "code",
        "outputId": "bcf31cb7-d696-4a4a-b26f-ed9996d7b5ee",
        "colab": {
          "base_uri": "https://localhost:8080/",
          "height": 305
        }
      },
      "source": [
        "#display plot\n",
        "Image('model1_plot.png')"
      ],
      "execution_count": 0,
      "outputs": [
        {
          "output_type": "execute_result",
          "data": {
            "image/png": "[encoded data removed]",
            "text/plain": [
              "<IPython.core.display.Image object>"
            ]
          },
          "metadata": {
            "tags": []
          },
          "execution_count": 20
        }
      ]
    },
    {
      "cell_type": "markdown",
      "metadata": {
        "id": "lnAfsK-VpVBE",
        "colab_type": "text"
      },
      "source": [
        "**Step 5 - Attempt #2**\n",
        "\n",
        "We got accuracy of 73%, but what if we add more convolutions (more parameters that we can learn):"
      ]
    },
    {
      "cell_type": "code",
      "metadata": {
        "id": "DgUjS4uEpFIX",
        "colab_type": "code",
        "colab": {}
      },
      "source": [
        "# define cnn model\n",
        "def define_model2():\n",
        "\tmodel = Sequential()\n",
        "\tmodel.add(Conv2D(32, (3, 3), activation='relu', kernel_initializer='he_uniform', padding='same', input_shape=(200, 200, 3)))\n",
        "\tmodel.add(MaxPooling2D((2, 2)))\n",
        "\tmodel.add(Conv2D(64, (3, 3), activation='relu', kernel_initializer='he_uniform', padding='same'))\n",
        "\tmodel.add(MaxPooling2D((2, 2)))\n",
        "\tmodel.add(Conv2D(128, (3, 3), activation='relu', kernel_initializer='he_uniform', padding='same'))\n",
        "\tmodel.add(Flatten())\n",
        "\tmodel.add(Dense(128, activation='relu', kernel_initializer='he_uniform'))\n",
        "\tmodel.add(Dense(1, activation='sigmoid'))\n",
        "\t# compile model\n",
        "\topt = SGD(lr=0.001, momentum=0.9)\n",
        "\tmodel.compile(optimizer=opt, loss='binary_crossentropy', metrics=['accuracy'])\n",
        "\treturn model\n"
      ],
      "execution_count": 0,
      "outputs": []
    },
    {
      "cell_type": "code",
      "metadata": {
        "id": "FWuhjnu8pb_A",
        "colab_type": "code",
        "outputId": "2806eba6-deb4-4aed-94c9-3add02fa412e",
        "colab": {
          "base_uri": "https://localhost:8080/",
          "height": 765
        }
      },
      "source": [
        "model = define_model2()\n",
        "\n",
        "history = run_model(model, 20, 'model2')\n",
        "# draw learning curves\n",
        "summarize_diagnostics(history, 'model2')"
      ],
      "execution_count": 0,
      "outputs": [
        {
          "output_type": "stream",
          "text": [
            "Found 18697 images belonging to 2 classes.\n",
            "Found 6303 images belonging to 2 classes.\n",
            "Epoch 1/20\n",
            "293/293 [==============================] - 82s 279ms/step - loss: 0.7073 - acc: 0.5930 - val_loss: 0.6536 - val_acc: 0.5818\n",
            "Epoch 2/20\n",
            "293/293 [==============================] - 78s 265ms/step - loss: 0.5990 - acc: 0.6746 - val_loss: 0.5781 - val_acc: 0.6951\n",
            "Epoch 3/20\n",
            "293/293 [==============================] - 78s 265ms/step - loss: 0.5476 - acc: 0.7214 - val_loss: 0.5368 - val_acc: 0.7293\n",
            "Epoch 4/20\n",
            "293/293 [==============================] - 78s 266ms/step - loss: 0.5027 - acc: 0.7561 - val_loss: 0.5070 - val_acc: 0.7561\n",
            "Epoch 5/20\n",
            "293/293 [==============================] - 78s 265ms/step - loss: 0.4677 - acc: 0.7775 - val_loss: 0.5436 - val_acc: 0.7230\n",
            "Epoch 6/20\n",
            "293/293 [==============================] - 77s 263ms/step - loss: 0.4243 - acc: 0.8056 - val_loss: 0.4764 - val_acc: 0.7695\n",
            "Epoch 7/20\n",
            "293/293 [==============================] - 77s 264ms/step - loss: 0.3893 - acc: 0.8266 - val_loss: 0.4724 - val_acc: 0.7738\n",
            "Epoch 8/20\n",
            "293/293 [==============================] - 78s 265ms/step - loss: 0.3521 - acc: 0.8450 - val_loss: 0.4912 - val_acc: 0.7669\n",
            "Epoch 9/20\n",
            "293/293 [==============================] - 79s 270ms/step - loss: 0.3153 - acc: 0.8682 - val_loss: 0.4902 - val_acc: 0.7722\n",
            "Epoch 10/20\n",
            "293/293 [==============================] - 78s 266ms/step - loss: 0.2774 - acc: 0.8855 - val_loss: 0.4916 - val_acc: 0.7765\n",
            "Epoch 11/20\n",
            "293/293 [==============================] - 78s 268ms/step - loss: 0.2382 - acc: 0.9058 - val_loss: 0.4968 - val_acc: 0.7798\n",
            "Epoch 12/20\n",
            "293/293 [==============================] - 77s 262ms/step - loss: 0.2001 - acc: 0.9224 - val_loss: 0.5860 - val_acc: 0.7625\n",
            "Epoch 13/20\n",
            "293/293 [==============================] - 77s 262ms/step - loss: 0.1617 - acc: 0.9431 - val_loss: 0.5723 - val_acc: 0.7741\n",
            "Epoch 14/20\n",
            "293/293 [==============================] - 77s 262ms/step - loss: 0.1351 - acc: 0.9556 - val_loss: 0.6591 - val_acc: 0.7628\n",
            "Epoch 15/20\n",
            "293/293 [==============================] - 77s 263ms/step - loss: 0.0991 - acc: 0.9716 - val_loss: 0.6057 - val_acc: 0.7776\n",
            "Epoch 16/20\n",
            "293/293 [==============================] - 78s 265ms/step - loss: 0.0723 - acc: 0.9822 - val_loss: 0.6777 - val_acc: 0.7784\n",
            "Epoch 17/20\n",
            "293/293 [==============================] - 77s 264ms/step - loss: 0.0522 - acc: 0.9897 - val_loss: 0.7247 - val_acc: 0.7730\n",
            "Epoch 18/20\n",
            "293/293 [==============================] - 77s 263ms/step - loss: 0.0372 - acc: 0.9944 - val_loss: 0.7252 - val_acc: 0.7792\n",
            "Epoch 19/20\n",
            "293/293 [==============================] - 78s 265ms/step - loss: 0.0268 - acc: 0.9965 - val_loss: 0.7866 - val_acc: 0.7744\n",
            "Epoch 20/20\n",
            "293/293 [==============================] - 77s 263ms/step - loss: 0.0216 - acc: 0.9978 - val_loss: 0.8164 - val_acc: 0.7719\n",
            "99/99 [==============================] - 19s 194ms/step\n",
            "> 77.185\n"
          ],
          "name": "stdout"
        }
      ]
    },
    {
      "cell_type": "code",
      "metadata": {
        "id": "9R8FTcOa5pjZ",
        "colab_type": "code",
        "outputId": "8f9f13aa-931d-4d03-f952-1e7c94db26d6",
        "colab": {
          "base_uri": "https://localhost:8080/",
          "height": 425
        }
      },
      "source": [
        "model.summary()"
      ],
      "execution_count": 0,
      "outputs": [
        {
          "output_type": "stream",
          "text": [
            "Model: \"sequential_6\"\n",
            "_________________________________________________________________\n",
            "Layer (type)                 Output Shape              Param #   \n",
            "=================================================================\n",
            "conv2d_6 (Conv2D)            (None, 200, 200, 32)      896       \n",
            "_________________________________________________________________\n",
            "max_pooling2d_6 (MaxPooling2 (None, 100, 100, 32)      0         \n",
            "_________________________________________________________________\n",
            "conv2d_7 (Conv2D)            (None, 100, 100, 64)      18496     \n",
            "_________________________________________________________________\n",
            "max_pooling2d_7 (MaxPooling2 (None, 50, 50, 64)        0         \n",
            "_________________________________________________________________\n",
            "conv2d_8 (Conv2D)            (None, 50, 50, 128)       73856     \n",
            "_________________________________________________________________\n",
            "flatten_6 (Flatten)          (None, 320000)            0         \n",
            "_________________________________________________________________\n",
            "dense_11 (Dense)             (None, 128)               40960128  \n",
            "_________________________________________________________________\n",
            "dense_12 (Dense)             (None, 1)                 129       \n",
            "=================================================================\n",
            "Total params: 41,053,505\n",
            "Trainable params: 41,053,505\n",
            "Non-trainable params: 0\n",
            "_________________________________________________________________\n"
          ],
          "name": "stdout"
        }
      ]
    },
    {
      "cell_type": "code",
      "metadata": {
        "id": "lmK7KE2w5xsQ",
        "colab_type": "code",
        "outputId": "c744f5d9-7337-444a-c61a-d2c3aca8d365",
        "colab": {
          "base_uri": "https://localhost:8080/",
          "height": 305
        }
      },
      "source": [
        "#display plot\n",
        "Image('model2_plot.png')"
      ],
      "execution_count": 0,
      "outputs": [
        {
          "output_type": "execute_result",
          "data": {
            "image/png": "[encoded data removed]",
            "text/plain": [
              "<IPython.core.display.Image object>"
            ]
          },
          "metadata": {
            "tags": []
          },
          "execution_count": 27
        }
      ]
    },
    {
      "cell_type": "markdown",
      "metadata": {
        "id": "Oj6bo9uKrQBg",
        "colab_type": "text"
      },
      "source": [
        "**Step 6 - Attempt #3**\n",
        "\n",
        "Now 77% accuracy. What if we add more training data. We can generate more training data by slightly modifying images from the training set.\n",
        "\n",
        "Shifting images by few pixels or flipping images does not change the classification of a cat or a dog, but allows the model to generalize better."
      ]
    },
    {
      "cell_type": "code",
      "metadata": {
        "id": "bzKZCKjYq6Z4",
        "colab_type": "code",
        "colab": {}
      },
      "source": [
        "# run the model!\n",
        "def run_model_generate(model, epochs, model_name):\n",
        "  # =================================================================\n",
        "  # create data generator - rescale numbers to be from 0-1 (rgb = 0-255)\n",
        "  # =================================================================\n",
        "  train_datagen = ImageDataGenerator(rescale=1.0/255.0,\n",
        "    width_shift_range=0.1, height_shift_range=0.1, horizontal_flip=True)\n",
        "  # =================================================================\n",
        "  test_datagen = ImageDataGenerator(rescale=1.0/255.0)\n",
        "  # prepare iterators\n",
        "  train_it = train_datagen.flow_from_directory('assets/dataset/train/',\n",
        "    class_mode='binary', batch_size=64, target_size=(200, 200))\n",
        "  test_it = test_datagen.flow_from_directory('assets/dataset/test/',\n",
        "    class_mode='binary', batch_size=64, target_size=(200, 200))\n",
        "  # fit model\n",
        "  history = model.fit_generator(train_it, steps_per_epoch=len(train_it),\n",
        "    validation_data=test_it, validation_steps=len(test_it), epochs=epochs, verbose=1)\n",
        "  model.save(model_name + '.h5')\n",
        "  # evaluate model\n",
        "  _, acc = model.evaluate_generator(test_it, steps=len(test_it), verbose=1)\n",
        "  print('> %.3f' % (acc * 100.0))\n",
        "  return history"
      ],
      "execution_count": 0,
      "outputs": []
    },
    {
      "cell_type": "code",
      "metadata": {
        "id": "JlE_bpXp6sx_",
        "colab_type": "code",
        "outputId": "916e60db-3933-45d7-b069-1d90d6ff5851",
        "colab": {
          "base_uri": "https://localhost:8080/",
          "height": 765
        }
      },
      "source": [
        "model = define_model2()\n",
        "\n",
        "history = run_model_generate(model, 20, 'model3')\n",
        "# draw learning curves\n",
        "summarize_diagnostics(history, 'model3')\n"
      ],
      "execution_count": 0,
      "outputs": [
        {
          "output_type": "stream",
          "text": [
            "Found 18697 images belonging to 2 classes.\n",
            "Found 6303 images belonging to 2 classes.\n",
            "Epoch 1/20\n",
            "293/293 [==============================] - 231s 790ms/step - loss: 0.6891 - acc: 0.5545 - val_loss: 0.6455 - val_acc: 0.6410\n",
            "Epoch 2/20\n",
            "293/293 [==============================] - 221s 754ms/step - loss: 0.6462 - acc: 0.6174 - val_loss: 0.6173 - val_acc: 0.6414\n",
            "Epoch 3/20\n",
            "293/293 [==============================] - 223s 760ms/step - loss: 0.6156 - acc: 0.6587 - val_loss: 0.5708 - val_acc: 0.7079\n",
            "Epoch 4/20\n",
            "293/293 [==============================] - 223s 761ms/step - loss: 0.5892 - acc: 0.6880 - val_loss: 0.5819 - val_acc: 0.6824\n",
            "Epoch 5/20\n",
            "293/293 [==============================] - 223s 760ms/step - loss: 0.5733 - acc: 0.7019 - val_loss: 0.5272 - val_acc: 0.7398\n",
            "Epoch 6/20\n",
            "293/293 [==============================] - 223s 762ms/step - loss: 0.5584 - acc: 0.7123 - val_loss: 0.5648 - val_acc: 0.6919\n",
            "Epoch 7/20\n",
            "293/293 [==============================] - 224s 766ms/step - loss: 0.5429 - acc: 0.7251 - val_loss: 0.5209 - val_acc: 0.7381\n",
            "Epoch 8/20\n",
            "293/293 [==============================] - 224s 766ms/step - loss: 0.5389 - acc: 0.7240 - val_loss: 0.4892 - val_acc: 0.7590\n",
            "Epoch 9/20\n",
            "293/293 [==============================] - 224s 763ms/step - loss: 0.5268 - acc: 0.7349 - val_loss: 0.4916 - val_acc: 0.7577\n",
            "Epoch 10/20\n",
            "293/293 [==============================] - 223s 763ms/step - loss: 0.5093 - acc: 0.7469 - val_loss: 0.4820 - val_acc: 0.7628\n",
            "Epoch 11/20\n",
            "293/293 [==============================] - 224s 765ms/step - loss: 0.4945 - acc: 0.7568 - val_loss: 0.4745 - val_acc: 0.7714\n",
            "Epoch 12/20\n",
            "293/293 [==============================] - 223s 763ms/step - loss: 0.4821 - acc: 0.7662 - val_loss: 0.4551 - val_acc: 0.7865\n",
            "Epoch 13/20\n",
            "293/293 [==============================] - 223s 763ms/step - loss: 0.4752 - acc: 0.7714 - val_loss: 0.4549 - val_acc: 0.7852\n",
            "Epoch 14/20\n",
            "293/293 [==============================] - 223s 761ms/step - loss: 0.4660 - acc: 0.7810 - val_loss: 0.4421 - val_acc: 0.7963\n",
            "Epoch 15/20\n",
            "293/293 [==============================] - 223s 762ms/step - loss: 0.4531 - acc: 0.7861 - val_loss: 0.4394 - val_acc: 0.7960\n",
            "Epoch 16/20\n",
            "293/293 [==============================] - 222s 758ms/step - loss: 0.4506 - acc: 0.7876 - val_loss: 0.4192 - val_acc: 0.8060\n",
            "Epoch 17/20\n",
            "293/293 [==============================] - 224s 765ms/step - loss: 0.4502 - acc: 0.7884 - val_loss: 0.4239 - val_acc: 0.8060\n",
            "Epoch 18/20\n",
            "293/293 [==============================] - 224s 764ms/step - loss: 0.4362 - acc: 0.7920 - val_loss: 0.4174 - val_acc: 0.8093\n",
            "Epoch 19/20\n",
            "293/293 [==============================] - 224s 766ms/step - loss: 0.4316 - acc: 0.7995 - val_loss: 0.4137 - val_acc: 0.8109\n",
            "Epoch 20/20\n",
            "293/293 [==============================] - 224s 765ms/step - loss: 0.4261 - acc: 0.8022 - val_loss: 0.4104 - val_acc: 0.8115\n",
            "99/99 [==============================] - 19s 195ms/step\n",
            "> 81.152\n"
          ],
          "name": "stdout"
        }
      ]
    },
    {
      "cell_type": "code",
      "metadata": {
        "id": "SzVCKERCG6XC",
        "colab_type": "code",
        "outputId": "a3721166-698d-415b-c3dd-c1f99fcbd972",
        "colab": {
          "base_uri": "https://localhost:8080/",
          "height": 425
        }
      },
      "source": [
        "model.summary()"
      ],
      "execution_count": 0,
      "outputs": [
        {
          "output_type": "stream",
          "text": [
            "Model: \"sequential_11\"\n",
            "_________________________________________________________________\n",
            "Layer (type)                 Output Shape              Param #   \n",
            "=================================================================\n",
            "conv2d_21 (Conv2D)           (None, 200, 200, 32)      896       \n",
            "_________________________________________________________________\n",
            "max_pooling2d_16 (MaxPooling (None, 100, 100, 32)      0         \n",
            "_________________________________________________________________\n",
            "conv2d_22 (Conv2D)           (None, 100, 100, 64)      18496     \n",
            "_________________________________________________________________\n",
            "max_pooling2d_17 (MaxPooling (None, 50, 50, 64)        0         \n",
            "_________________________________________________________________\n",
            "conv2d_23 (Conv2D)           (None, 50, 50, 128)       73856     \n",
            "_________________________________________________________________\n",
            "flatten_11 (Flatten)         (None, 320000)            0         \n",
            "_________________________________________________________________\n",
            "dense_21 (Dense)             (None, 128)               40960128  \n",
            "_________________________________________________________________\n",
            "dense_22 (Dense)             (None, 1)                 129       \n",
            "=================================================================\n",
            "Total params: 41,053,505\n",
            "Trainable params: 41,053,505\n",
            "Non-trainable params: 0\n",
            "_________________________________________________________________\n"
          ],
          "name": "stdout"
        }
      ]
    },
    {
      "cell_type": "code",
      "metadata": {
        "id": "fb36gB2q1Jf8",
        "colab_type": "code",
        "outputId": "fed9789f-5e52-4675-9fea-303f2c921789",
        "colab": {
          "base_uri": "https://localhost:8080/",
          "height": 305
        }
      },
      "source": [
        "#display plot\n",
        "Image('model3_plot.png')"
      ],
      "execution_count": 0,
      "outputs": [
        {
          "output_type": "execute_result",
          "data": {
            "image/png": "[encoded data removed]",
            "text/plain": [
              "<IPython.core.display.Image object>"
            ]
          },
          "metadata": {
            "tags": []
          },
          "execution_count": 37
        }
      ]
    },
    {
      "cell_type": "markdown",
      "metadata": {
        "id": "rmhU7sz8_f66",
        "colab_type": "text"
      },
      "source": [
        "**Step 7 - Attempt #4**\n",
        "\n",
        "Now we are at an accuracy of 81.152%! Let's use a technique called \"transfer learning\"! Instead of creating a model from scratch, what if we used a pretrained model? How does this work though? VGG16 is a sample model that we can use; that has been trained against ImageNet dataset. The fully connected layers of a neural network takes patterns extracted from previous layers to define classes. Usually this is not specific to a single class but more for extracting well known features.\n",
        "\n",
        "We can utilize these trained models to better extract features that help us determine if it is a cat/dog. Let us see how the VGG16 model looks:"
      ]
    },
    {
      "cell_type": "code",
      "metadata": {
        "id": "akUSHOHT_wzo",
        "colab_type": "code",
        "outputId": "7c8a5233-632d-49f0-9679-446dc96e8ff0",
        "colab": {
          "base_uri": "https://localhost:8080/",
          "height": 799
        }
      },
      "source": [
        "from keras.applications.vgg16 import VGG16\n",
        "\n",
        "model = VGG16(include_top=False, input_shape=(224, 224, 3))\n",
        "model.summary()"
      ],
      "execution_count": 0,
      "outputs": [
        {
          "output_type": "stream",
          "text": [
            "Model: \"vgg16\"\n",
            "_________________________________________________________________\n",
            "Layer (type)                 Output Shape              Param #   \n",
            "=================================================================\n",
            "input_2 (InputLayer)         (None, 224, 224, 3)       0         \n",
            "_________________________________________________________________\n",
            "block1_conv1 (Conv2D)        (None, 224, 224, 64)      1792      \n",
            "_________________________________________________________________\n",
            "block1_conv2 (Conv2D)        (None, 224, 224, 64)      36928     \n",
            "_________________________________________________________________\n",
            "block1_pool (MaxPooling2D)   (None, 112, 112, 64)      0         \n",
            "_________________________________________________________________\n",
            "block2_conv1 (Conv2D)        (None, 112, 112, 128)     73856     \n",
            "_________________________________________________________________\n",
            "block2_conv2 (Conv2D)        (None, 112, 112, 128)     147584    \n",
            "_________________________________________________________________\n",
            "block2_pool (MaxPooling2D)   (None, 56, 56, 128)       0         \n",
            "_________________________________________________________________\n",
            "block3_conv1 (Conv2D)        (None, 56, 56, 256)       295168    \n",
            "_________________________________________________________________\n",
            "block3_conv2 (Conv2D)        (None, 56, 56, 256)       590080    \n",
            "_________________________________________________________________\n",
            "block3_conv3 (Conv2D)        (None, 56, 56, 256)       590080    \n",
            "_________________________________________________________________\n",
            "block3_pool (MaxPooling2D)   (None, 28, 28, 256)       0         \n",
            "_________________________________________________________________\n",
            "block4_conv1 (Conv2D)        (None, 28, 28, 512)       1180160   \n",
            "_________________________________________________________________\n",
            "block4_conv2 (Conv2D)        (None, 28, 28, 512)       2359808   \n",
            "_________________________________________________________________\n",
            "block4_conv3 (Conv2D)        (None, 28, 28, 512)       2359808   \n",
            "_________________________________________________________________\n",
            "block4_pool (MaxPooling2D)   (None, 14, 14, 512)       0         \n",
            "_________________________________________________________________\n",
            "block5_conv1 (Conv2D)        (None, 14, 14, 512)       2359808   \n",
            "_________________________________________________________________\n",
            "block5_conv2 (Conv2D)        (None, 14, 14, 512)       2359808   \n",
            "_________________________________________________________________\n",
            "block5_conv3 (Conv2D)        (None, 14, 14, 512)       2359808   \n",
            "_________________________________________________________________\n",
            "block5_pool (MaxPooling2D)   (None, 7, 7, 512)         0         \n",
            "=================================================================\n",
            "Total params: 14,714,688\n",
            "Trainable params: 14,714,688\n",
            "Non-trainable params: 0\n",
            "_________________________________________________________________\n"
          ],
          "name": "stdout"
        }
      ]
    },
    {
      "cell_type": "markdown",
      "metadata": {
        "id": "LCZg94B7i1SU",
        "colab_type": "text"
      },
      "source": [
        "Notice how this model looks very similar to our previous models, except that it has many more layers. It uses the same Conv2D and MaxPooling2D that we use previously.\n",
        "\n",
        "Now let us add a fully connected layer and train on our cat/dog dataset:"
      ]
    },
    {
      "cell_type": "code",
      "metadata": {
        "id": "KXOHDPMPHW1Q",
        "colab_type": "code",
        "colab": {}
      },
      "source": [
        "from keras.applications.vgg16 import VGG16\n",
        "from keras.models import Model\n",
        "\n",
        "# define cnn model\n",
        "def define_model3():\n",
        "  # load model\n",
        "  model = VGG16(include_top=False, input_shape=(200, 200, 3))\n",
        "  # mark loaded layers as not trainable\n",
        "  for layer in model.layers:\n",
        "    layer.trainable = False\n",
        "  # add new classifier layers\n",
        "  flat1 = Flatten()(model.layers[-1].output)\n",
        "  class1 = Dense(128, activation='relu', kernel_initializer='he_uniform')(flat1)\n",
        "  output = Dense(1, activation='sigmoid')(class1)\n",
        "  # define new model\n",
        "  model = Model(inputs=model.inputs, outputs=output)\n",
        "  # compile model\n",
        "  opt = SGD(lr=0.001, momentum=0.9)\n",
        "  model.compile(optimizer=opt, loss='binary_crossentropy', metrics=['accuracy'])\n",
        "  return model"
      ],
      "execution_count": 0,
      "outputs": []
    },
    {
      "cell_type": "code",
      "metadata": {
        "id": "AkatI9pMIB-U",
        "colab_type": "code",
        "outputId": "e69dd2ce-62e2-4405-8a7e-8f499bc95c3d",
        "colab": {
          "base_uri": "https://localhost:8080/",
          "height": 1000
        }
      },
      "source": [
        "model = define_model3()\n",
        "\n",
        "history = run_model_generate(model, 20, 'model4')\n",
        "# draw learning curves\n",
        "summarize_diagnostics(history, 'model4')"
      ],
      "execution_count": 0,
      "outputs": [
        {
          "output_type": "stream",
          "text": [
            "Downloading data from https://github.com/fchollet/deep-learning-models/releases/download/v0.1/vgg16_weights_tf_dim_ordering_tf_kernels_notop.h5\n",
            "58892288/58889256 [==============================] - 3s 0us/step\n",
            "WARNING:tensorflow:From /usr/local/lib/python3.6/dist-packages/keras/backend/tensorflow_backend.py:190: The name tf.get_default_session is deprecated. Please use tf.compat.v1.get_default_session instead.\n",
            "\n",
            "WARNING:tensorflow:From /usr/local/lib/python3.6/dist-packages/keras/backend/tensorflow_backend.py:197: The name tf.ConfigProto is deprecated. Please use tf.compat.v1.ConfigProto instead.\n",
            "\n",
            "WARNING:tensorflow:From /usr/local/lib/python3.6/dist-packages/keras/backend/tensorflow_backend.py:203: The name tf.Session is deprecated. Please use tf.compat.v1.Session instead.\n",
            "\n",
            "WARNING:tensorflow:From /usr/local/lib/python3.6/dist-packages/keras/backend/tensorflow_backend.py:207: The name tf.global_variables is deprecated. Please use tf.compat.v1.global_variables instead.\n",
            "\n",
            "WARNING:tensorflow:From /usr/local/lib/python3.6/dist-packages/keras/backend/tensorflow_backend.py:216: The name tf.is_variable_initialized is deprecated. Please use tf.compat.v1.is_variable_initialized instead.\n",
            "\n",
            "WARNING:tensorflow:From /usr/local/lib/python3.6/dist-packages/keras/backend/tensorflow_backend.py:223: The name tf.variables_initializer is deprecated. Please use tf.compat.v1.variables_initializer instead.\n",
            "\n",
            "WARNING:tensorflow:From /usr/local/lib/python3.6/dist-packages/keras/optimizers.py:793: The name tf.train.Optimizer is deprecated. Please use tf.compat.v1.train.Optimizer instead.\n",
            "\n",
            "WARNING:tensorflow:From /usr/local/lib/python3.6/dist-packages/keras/backend/tensorflow_backend.py:3657: The name tf.log is deprecated. Please use tf.math.log instead.\n",
            "\n",
            "WARNING:tensorflow:From /usr/local/lib/python3.6/dist-packages/tensorflow_core/python/ops/nn_impl.py:183: where (from tensorflow.python.ops.array_ops) is deprecated and will be removed in a future version.\n",
            "Instructions for updating:\n",
            "Use tf.where in 2.0, which has the same broadcast rule as np.where\n",
            "Found 18697 images belonging to 2 classes.\n",
            "Found 6303 images belonging to 2 classes.\n",
            "WARNING:tensorflow:From /usr/local/lib/python3.6/dist-packages/keras/backend/tensorflow_backend.py:1033: The name tf.assign_add is deprecated. Please use tf.compat.v1.assign_add instead.\n",
            "\n",
            "WARNING:tensorflow:From /usr/local/lib/python3.6/dist-packages/keras/backend/tensorflow_backend.py:1020: The name tf.assign is deprecated. Please use tf.compat.v1.assign instead.\n",
            "\n",
            "Epoch 1/20\n",
            "293/293 [==============================] - 204s 696ms/step - loss: 0.3536 - acc: 0.8381 - val_loss: 0.2856 - val_acc: 0.8745\n",
            "Epoch 2/20\n",
            "293/293 [==============================] - 191s 652ms/step - loss: 0.2425 - acc: 0.8987 - val_loss: 0.2056 - val_acc: 0.9123\n",
            "Epoch 3/20\n",
            "293/293 [==============================] - 192s 657ms/step - loss: 0.2407 - acc: 0.8948 - val_loss: 0.2051 - val_acc: 0.9158\n",
            "Epoch 4/20\n",
            "293/293 [==============================] - 191s 651ms/step - loss: 0.2162 - acc: 0.9097 - val_loss: 0.1920 - val_acc: 0.9197\n",
            "Epoch 5/20\n",
            "293/293 [==============================] - 190s 649ms/step - loss: 0.2057 - acc: 0.9120 - val_loss: 0.2134 - val_acc: 0.9115\n",
            "Epoch 6/20\n",
            "293/293 [==============================] - 185s 630ms/step - loss: 0.1988 - acc: 0.9165 - val_loss: 0.1874 - val_acc: 0.9221\n",
            "Epoch 7/20\n",
            "293/293 [==============================] - 187s 640ms/step - loss: 0.2055 - acc: 0.9135 - val_loss: 0.2064 - val_acc: 0.9154\n",
            "Epoch 8/20\n",
            "293/293 [==============================] - 192s 656ms/step - loss: 0.2022 - acc: 0.9154 - val_loss: 0.1763 - val_acc: 0.9256\n",
            "Epoch 9/20\n",
            "293/293 [==============================] - 184s 628ms/step - loss: 0.1895 - acc: 0.9206 - val_loss: 0.1905 - val_acc: 0.9172\n",
            "Epoch 10/20\n",
            "293/293 [==============================] - 185s 633ms/step - loss: 0.1996 - acc: 0.9159 - val_loss: 0.1784 - val_acc: 0.9259\n",
            "Epoch 11/20\n",
            "293/293 [==============================] - 186s 634ms/step - loss: 0.1810 - acc: 0.9258 - val_loss: 0.1733 - val_acc: 0.9259\n",
            "Epoch 12/20\n",
            "293/293 [==============================] - 186s 636ms/step - loss: 0.1886 - acc: 0.9199 - val_loss: 0.2146 - val_acc: 0.9131\n",
            "Epoch 13/20\n",
            "293/293 [==============================] - 186s 633ms/step - loss: 0.1799 - acc: 0.9239 - val_loss: 0.1749 - val_acc: 0.9262\n",
            "Epoch 14/20\n",
            "293/293 [==============================] - 186s 636ms/step - loss: 0.1705 - acc: 0.9305 - val_loss: 0.1995 - val_acc: 0.9188\n",
            "Epoch 15/20\n",
            "293/293 [==============================] - 191s 651ms/step - loss: 0.1815 - acc: 0.9260 - val_loss: 0.1755 - val_acc: 0.9267\n",
            "Epoch 16/20\n",
            "293/293 [==============================] - 184s 626ms/step - loss: 0.1879 - acc: 0.9222 - val_loss: 0.1713 - val_acc: 0.9267\n",
            "Epoch 17/20\n",
            "293/293 [==============================] - 185s 632ms/step - loss: 0.1694 - acc: 0.9291 - val_loss: 0.1688 - val_acc: 0.9273\n",
            "Epoch 18/20\n",
            "293/293 [==============================] - 185s 632ms/step - loss: 0.1803 - acc: 0.9245 - val_loss: 0.1843 - val_acc: 0.9231\n",
            "Epoch 19/20\n",
            "293/293 [==============================] - 184s 629ms/step - loss: 0.1805 - acc: 0.9250 - val_loss: 0.1761 - val_acc: 0.9246\n",
            "Epoch 20/20\n",
            "293/293 [==============================] - 185s 632ms/step - loss: 0.1859 - acc: 0.9239 - val_loss: 0.1721 - val_acc: 0.9292\n",
            "99/99 [==============================] - 20s 198ms/step\n",
            "> 92.924\n"
          ],
          "name": "stdout"
        }
      ]
    },
    {
      "cell_type": "markdown",
      "metadata": {
        "id": "kMzTVdCDi705",
        "colab_type": "text"
      },
      "source": [
        "We get a much better accuracy now of 92.9%!"
      ]
    },
    {
      "cell_type": "code",
      "metadata": {
        "id": "I9DWvm0-p4SD",
        "colab_type": "code",
        "outputId": "4f57c2cd-3f20-4b9a-e3fa-2a477a83470a",
        "colab": {
          "base_uri": "https://localhost:8080/",
          "height": 953
        }
      },
      "source": [
        "model.summary()"
      ],
      "execution_count": 0,
      "outputs": [
        {
          "output_type": "stream",
          "text": [
            "Model: \"model_1\"\n",
            "_________________________________________________________________\n",
            "Layer (type)                 Output Shape              Param #   \n",
            "=================================================================\n",
            "input_2 (InputLayer)         (None, 200, 200, 3)       0         \n",
            "_________________________________________________________________\n",
            "block1_conv1 (Conv2D)        (None, 200, 200, 64)      1792      \n",
            "_________________________________________________________________\n",
            "block1_conv2 (Conv2D)        (None, 200, 200, 64)      36928     \n",
            "_________________________________________________________________\n",
            "block1_pool (MaxPooling2D)   (None, 100, 100, 64)      0         \n",
            "_________________________________________________________________\n",
            "block2_conv1 (Conv2D)        (None, 100, 100, 128)     73856     \n",
            "_________________________________________________________________\n",
            "block2_conv2 (Conv2D)        (None, 100, 100, 128)     147584    \n",
            "_________________________________________________________________\n",
            "block2_pool (MaxPooling2D)   (None, 50, 50, 128)       0         \n",
            "_________________________________________________________________\n",
            "block3_conv1 (Conv2D)        (None, 50, 50, 256)       295168    \n",
            "_________________________________________________________________\n",
            "block3_conv2 (Conv2D)        (None, 50, 50, 256)       590080    \n",
            "_________________________________________________________________\n",
            "block3_conv3 (Conv2D)        (None, 50, 50, 256)       590080    \n",
            "_________________________________________________________________\n",
            "block3_pool (MaxPooling2D)   (None, 25, 25, 256)       0         \n",
            "_________________________________________________________________\n",
            "block4_conv1 (Conv2D)        (None, 25, 25, 512)       1180160   \n",
            "_________________________________________________________________\n",
            "block4_conv2 (Conv2D)        (None, 25, 25, 512)       2359808   \n",
            "_________________________________________________________________\n",
            "block4_conv3 (Conv2D)        (None, 25, 25, 512)       2359808   \n",
            "_________________________________________________________________\n",
            "block4_pool (MaxPooling2D)   (None, 12, 12, 512)       0         \n",
            "_________________________________________________________________\n",
            "block5_conv1 (Conv2D)        (None, 12, 12, 512)       2359808   \n",
            "_________________________________________________________________\n",
            "block5_conv2 (Conv2D)        (None, 12, 12, 512)       2359808   \n",
            "_________________________________________________________________\n",
            "block5_conv3 (Conv2D)        (None, 12, 12, 512)       2359808   \n",
            "_________________________________________________________________\n",
            "block5_pool (MaxPooling2D)   (None, 6, 6, 512)         0         \n",
            "_________________________________________________________________\n",
            "flatten_1 (Flatten)          (None, 18432)             0         \n",
            "_________________________________________________________________\n",
            "dense_1 (Dense)              (None, 128)               2359424   \n",
            "_________________________________________________________________\n",
            "dense_2 (Dense)              (None, 1)                 129       \n",
            "=================================================================\n",
            "Total params: 17,074,241\n",
            "Trainable params: 2,359,553\n",
            "Non-trainable params: 14,714,688\n",
            "_________________________________________________________________\n"
          ],
          "name": "stdout"
        }
      ]
    },
    {
      "cell_type": "code",
      "metadata": {
        "id": "qItr_cLzq9Ao",
        "colab_type": "code",
        "outputId": "cc587c58-d18a-4b57-ce56-aae15ffa075f",
        "colab": {
          "base_uri": "https://localhost:8080/",
          "height": 305
        }
      },
      "source": [
        "Image('model4_plot.png')"
      ],
      "execution_count": 0,
      "outputs": [
        {
          "output_type": "execute_result",
          "data": {
            "image/png": "[encoded data removed]",
            "text/plain": [
              "<IPython.core.display.Image object>"
            ]
          },
          "metadata": {
            "tags": []
          },
          "execution_count": 12
        }
      ]
    },
    {
      "cell_type": "markdown",
      "metadata": {
        "id": "Ivv0ad1SlQ7R",
        "colab_type": "text"
      },
      "source": [
        "fin..."
      ]
    }
  ]
}